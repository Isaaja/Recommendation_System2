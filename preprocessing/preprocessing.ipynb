{
 "cells": [
  {
   "cell_type": "markdown",
   "metadata": {},
   "source": [
    "**NAMA  : ISA IANT MAULANA** <br>\n",
    "**NIM   : A11.2022.14416** <br>\n",
    "**TUGAS STKI**\n",
    "\n",
    "**JUDUL : SISTEM PENCARI UNTUK MEMBERIKAN REKOMENDASI ANIME**"
   ]
  },
  {
   "cell_type": "markdown",
   "metadata": {},
   "source": [
    "## Import Dataset"
   ]
  },
  {
   "cell_type": "code",
   "execution_count": 1,
   "metadata": {
    "_kg_hide-input": true,
    "execution": {
     "iopub.execute_input": "2022-11-30T15:18:07.805121Z",
     "iopub.status.busy": "2022-11-30T15:18:07.804232Z",
     "iopub.status.idle": "2022-11-30T15:18:09.002457Z",
     "shell.execute_reply": "2022-11-30T15:18:09.001363Z",
     "shell.execute_reply.started": "2022-11-30T15:18:07.805018Z"
    },
    "trusted": true
   },
   "outputs": [],
   "source": [
    "import numpy as np\n",
    "import pandas as pd\n",
    "import matplotlib.pyplot as plt\n",
    "import seaborn as sns\n",
    "\n",
    "import warnings\n",
    "warnings.filterwarnings('ignore')"
   ]
  },
  {
   "cell_type": "code",
   "execution_count": 2,
   "metadata": {
    "_kg_hide-input": true,
    "execution": {
     "iopub.execute_input": "2022-11-30T15:18:16.454053Z",
     "iopub.status.busy": "2022-11-30T15:18:16.453659Z",
     "iopub.status.idle": "2022-11-30T15:18:19.608168Z",
     "shell.execute_reply": "2022-11-30T15:18:19.606885Z",
     "shell.execute_reply.started": "2022-11-30T15:18:16.454021Z"
    },
    "trusted": true
   },
   "outputs": [],
   "source": [
    "anime = pd.read_csv(\"C:/SEMESTER 5/STKI/Tugas 3 STKI/data/anime.csv\")\n",
    "rating = pd.read_csv(\"C:/SEMESTER 5/STKI/Tugas 3 STKI/data/rating.csv\")"
   ]
  },
  {
   "cell_type": "markdown",
   "metadata": {},
   "source": [
    "## Preprocessing\n"
   ]
  },
  {
   "cell_type": "code",
   "execution_count": 3,
   "metadata": {
    "_kg_hide-input": true,
    "execution": {
     "iopub.execute_input": "2022-11-30T15:18:24.875730Z",
     "iopub.status.busy": "2022-11-30T15:18:24.875284Z",
     "iopub.status.idle": "2022-11-30T15:18:24.966010Z",
     "shell.execute_reply": "2022-11-30T15:18:24.964881Z",
     "shell.execute_reply.started": "2022-11-30T15:18:24.875695Z"
    },
    "trusted": true
   },
   "outputs": [
    {
     "name": "stdout",
     "output_type": "stream",
     "text": [
      "Shape of The Anime Dataset : (12294, 7)\n",
      "\n",
      "Glimpse of The Dataset :\n"
     ]
    },
    {
     "data": {
      "text/html": [
       "<style type=\"text/css\">\n",
       "</style>\n",
       "<table id=\"T_28c09\">\n",
       "  <thead>\n",
       "    <tr>\n",
       "      <th class=\"blank level0\" >&nbsp;</th>\n",
       "      <th id=\"T_28c09_level0_col0\" class=\"col_heading level0 col0\" >anime_id</th>\n",
       "      <th id=\"T_28c09_level0_col1\" class=\"col_heading level0 col1\" >name</th>\n",
       "      <th id=\"T_28c09_level0_col2\" class=\"col_heading level0 col2\" >genre</th>\n",
       "      <th id=\"T_28c09_level0_col3\" class=\"col_heading level0 col3\" >type</th>\n",
       "      <th id=\"T_28c09_level0_col4\" class=\"col_heading level0 col4\" >episodes</th>\n",
       "      <th id=\"T_28c09_level0_col5\" class=\"col_heading level0 col5\" >rating</th>\n",
       "      <th id=\"T_28c09_level0_col6\" class=\"col_heading level0 col6\" >members</th>\n",
       "    </tr>\n",
       "  </thead>\n",
       "  <tbody>\n",
       "    <tr>\n",
       "      <th id=\"T_28c09_level0_row0\" class=\"row_heading level0 row0\" >0</th>\n",
       "      <td id=\"T_28c09_row0_col0\" class=\"data row0 col0\" >32281</td>\n",
       "      <td id=\"T_28c09_row0_col1\" class=\"data row0 col1\" >Kimi no Na wa.</td>\n",
       "      <td id=\"T_28c09_row0_col2\" class=\"data row0 col2\" >Drama, Romance, School, Supernatural</td>\n",
       "      <td id=\"T_28c09_row0_col3\" class=\"data row0 col3\" >Movie</td>\n",
       "      <td id=\"T_28c09_row0_col4\" class=\"data row0 col4\" >1</td>\n",
       "      <td id=\"T_28c09_row0_col5\" class=\"data row0 col5\" >9.370000</td>\n",
       "      <td id=\"T_28c09_row0_col6\" class=\"data row0 col6\" >200630</td>\n",
       "    </tr>\n",
       "    <tr>\n",
       "      <th id=\"T_28c09_level0_row1\" class=\"row_heading level0 row1\" >1</th>\n",
       "      <td id=\"T_28c09_row1_col0\" class=\"data row1 col0\" >5114</td>\n",
       "      <td id=\"T_28c09_row1_col1\" class=\"data row1 col1\" >Fullmetal Alchemist: Brotherhood</td>\n",
       "      <td id=\"T_28c09_row1_col2\" class=\"data row1 col2\" >Action, Adventure, Drama, Fantasy, Magic, Military, Shounen</td>\n",
       "      <td id=\"T_28c09_row1_col3\" class=\"data row1 col3\" >TV</td>\n",
       "      <td id=\"T_28c09_row1_col4\" class=\"data row1 col4\" >64</td>\n",
       "      <td id=\"T_28c09_row1_col5\" class=\"data row1 col5\" >9.260000</td>\n",
       "      <td id=\"T_28c09_row1_col6\" class=\"data row1 col6\" >793665</td>\n",
       "    </tr>\n",
       "    <tr>\n",
       "      <th id=\"T_28c09_level0_row2\" class=\"row_heading level0 row2\" >2</th>\n",
       "      <td id=\"T_28c09_row2_col0\" class=\"data row2 col0\" >28977</td>\n",
       "      <td id=\"T_28c09_row2_col1\" class=\"data row2 col1\" >Gintama°</td>\n",
       "      <td id=\"T_28c09_row2_col2\" class=\"data row2 col2\" >Action, Comedy, Historical, Parody, Samurai, Sci-Fi, Shounen</td>\n",
       "      <td id=\"T_28c09_row2_col3\" class=\"data row2 col3\" >TV</td>\n",
       "      <td id=\"T_28c09_row2_col4\" class=\"data row2 col4\" >51</td>\n",
       "      <td id=\"T_28c09_row2_col5\" class=\"data row2 col5\" >9.250000</td>\n",
       "      <td id=\"T_28c09_row2_col6\" class=\"data row2 col6\" >114262</td>\n",
       "    </tr>\n",
       "    <tr>\n",
       "      <th id=\"T_28c09_level0_row3\" class=\"row_heading level0 row3\" >3</th>\n",
       "      <td id=\"T_28c09_row3_col0\" class=\"data row3 col0\" >9253</td>\n",
       "      <td id=\"T_28c09_row3_col1\" class=\"data row3 col1\" >Steins;Gate</td>\n",
       "      <td id=\"T_28c09_row3_col2\" class=\"data row3 col2\" >Sci-Fi, Thriller</td>\n",
       "      <td id=\"T_28c09_row3_col3\" class=\"data row3 col3\" >TV</td>\n",
       "      <td id=\"T_28c09_row3_col4\" class=\"data row3 col4\" >24</td>\n",
       "      <td id=\"T_28c09_row3_col5\" class=\"data row3 col5\" >9.170000</td>\n",
       "      <td id=\"T_28c09_row3_col6\" class=\"data row3 col6\" >673572</td>\n",
       "    </tr>\n",
       "    <tr>\n",
       "      <th id=\"T_28c09_level0_row4\" class=\"row_heading level0 row4\" >4</th>\n",
       "      <td id=\"T_28c09_row4_col0\" class=\"data row4 col0\" >9969</td>\n",
       "      <td id=\"T_28c09_row4_col1\" class=\"data row4 col1\" >Gintama&#039;</td>\n",
       "      <td id=\"T_28c09_row4_col2\" class=\"data row4 col2\" >Action, Comedy, Historical, Parody, Samurai, Sci-Fi, Shounen</td>\n",
       "      <td id=\"T_28c09_row4_col3\" class=\"data row4 col3\" >TV</td>\n",
       "      <td id=\"T_28c09_row4_col4\" class=\"data row4 col4\" >51</td>\n",
       "      <td id=\"T_28c09_row4_col5\" class=\"data row4 col5\" >9.160000</td>\n",
       "      <td id=\"T_28c09_row4_col6\" class=\"data row4 col6\" >151266</td>\n",
       "    </tr>\n",
       "  </tbody>\n",
       "</table>\n"
      ],
      "text/plain": [
       "<pandas.io.formats.style.Styler at 0x2778f086350>"
      ]
     },
     "execution_count": 3,
     "metadata": {},
     "output_type": "execute_result"
    }
   ],
   "source": [
    "print(f\"Shape of The Anime Dataset : {anime.shape}\")\n",
    "print(f\"\\nGlimpse of The Dataset :\")\n",
    "anime.head().style.set_properties()"
   ]
  },
  {
   "cell_type": "code",
   "execution_count": 4,
   "metadata": {
    "_kg_hide-input": true,
    "execution": {
     "iopub.execute_input": "2022-11-30T15:18:29.164337Z",
     "iopub.status.busy": "2022-11-30T15:18:29.163675Z",
     "iopub.status.idle": "2022-11-30T15:18:29.192203Z",
     "shell.execute_reply": "2022-11-30T15:18:29.190268Z",
     "shell.execute_reply.started": "2022-11-30T15:18:29.164300Z"
    },
    "trusted": true
   },
   "outputs": [
    {
     "name": "stdout",
     "output_type": "stream",
     "text": [
      "Informations About Anime Dataset :\n",
      "\n",
      "<class 'pandas.core.frame.DataFrame'>\n",
      "RangeIndex: 12294 entries, 0 to 12293\n",
      "Data columns (total 7 columns):\n",
      " #   Column    Non-Null Count  Dtype  \n",
      "---  ------    --------------  -----  \n",
      " 0   anime_id  12294 non-null  int64  \n",
      " 1   name      12294 non-null  object \n",
      " 2   genre     12232 non-null  object \n",
      " 3   type      12269 non-null  object \n",
      " 4   episodes  12294 non-null  object \n",
      " 5   rating    12064 non-null  float64\n",
      " 6   members   12294 non-null  int64  \n",
      "dtypes: float64(1), int64(2), object(4)\n",
      "memory usage: 672.5+ KB\n",
      "None\n"
     ]
    }
   ],
   "source": [
    "print(f\"Informations About Anime Dataset :\\n\")\n",
    "print(anime.info())"
   ]
  },
  {
   "cell_type": "markdown",
   "metadata": {},
   "source": [
    "**Mari kita lihar sekilas dataset rating.**"
   ]
  },
  {
   "cell_type": "code",
   "execution_count": 5,
   "metadata": {
    "_kg_hide-input": true,
    "execution": {
     "iopub.execute_input": "2022-11-30T15:18:45.005111Z",
     "iopub.status.busy": "2022-11-30T15:18:45.004706Z",
     "iopub.status.idle": "2022-11-30T15:18:45.024866Z",
     "shell.execute_reply": "2022-11-30T15:18:45.022157Z",
     "shell.execute_reply.started": "2022-11-30T15:18:45.005073Z"
    },
    "trusted": true
   },
   "outputs": [
    {
     "name": "stdout",
     "output_type": "stream",
     "text": [
      "Shape of The Rating Dataset : (7813737, 3)\n",
      "\n",
      "Glimpse of The Dataset :\n"
     ]
    },
    {
     "data": {
      "text/html": [
       "<style type=\"text/css\">\n",
       "</style>\n",
       "<table id=\"T_a5c76\">\n",
       "  <thead>\n",
       "    <tr>\n",
       "      <th class=\"blank level0\" >&nbsp;</th>\n",
       "      <th id=\"T_a5c76_level0_col0\" class=\"col_heading level0 col0\" >user_id</th>\n",
       "      <th id=\"T_a5c76_level0_col1\" class=\"col_heading level0 col1\" >anime_id</th>\n",
       "      <th id=\"T_a5c76_level0_col2\" class=\"col_heading level0 col2\" >rating</th>\n",
       "    </tr>\n",
       "  </thead>\n",
       "  <tbody>\n",
       "    <tr>\n",
       "      <th id=\"T_a5c76_level0_row0\" class=\"row_heading level0 row0\" >0</th>\n",
       "      <td id=\"T_a5c76_row0_col0\" class=\"data row0 col0\" >1</td>\n",
       "      <td id=\"T_a5c76_row0_col1\" class=\"data row0 col1\" >20</td>\n",
       "      <td id=\"T_a5c76_row0_col2\" class=\"data row0 col2\" >-1</td>\n",
       "    </tr>\n",
       "    <tr>\n",
       "      <th id=\"T_a5c76_level0_row1\" class=\"row_heading level0 row1\" >1</th>\n",
       "      <td id=\"T_a5c76_row1_col0\" class=\"data row1 col0\" >1</td>\n",
       "      <td id=\"T_a5c76_row1_col1\" class=\"data row1 col1\" >24</td>\n",
       "      <td id=\"T_a5c76_row1_col2\" class=\"data row1 col2\" >-1</td>\n",
       "    </tr>\n",
       "    <tr>\n",
       "      <th id=\"T_a5c76_level0_row2\" class=\"row_heading level0 row2\" >2</th>\n",
       "      <td id=\"T_a5c76_row2_col0\" class=\"data row2 col0\" >1</td>\n",
       "      <td id=\"T_a5c76_row2_col1\" class=\"data row2 col1\" >79</td>\n",
       "      <td id=\"T_a5c76_row2_col2\" class=\"data row2 col2\" >-1</td>\n",
       "    </tr>\n",
       "    <tr>\n",
       "      <th id=\"T_a5c76_level0_row3\" class=\"row_heading level0 row3\" >3</th>\n",
       "      <td id=\"T_a5c76_row3_col0\" class=\"data row3 col0\" >1</td>\n",
       "      <td id=\"T_a5c76_row3_col1\" class=\"data row3 col1\" >226</td>\n",
       "      <td id=\"T_a5c76_row3_col2\" class=\"data row3 col2\" >-1</td>\n",
       "    </tr>\n",
       "    <tr>\n",
       "      <th id=\"T_a5c76_level0_row4\" class=\"row_heading level0 row4\" >4</th>\n",
       "      <td id=\"T_a5c76_row4_col0\" class=\"data row4 col0\" >1</td>\n",
       "      <td id=\"T_a5c76_row4_col1\" class=\"data row4 col1\" >241</td>\n",
       "      <td id=\"T_a5c76_row4_col2\" class=\"data row4 col2\" >-1</td>\n",
       "    </tr>\n",
       "  </tbody>\n",
       "</table>\n"
      ],
      "text/plain": [
       "<pandas.io.formats.style.Styler at 0x2778f246950>"
      ]
     },
     "execution_count": 5,
     "metadata": {},
     "output_type": "execute_result"
    }
   ],
   "source": [
    "print(f\"Shape of The Rating Dataset : {rating.shape}\")\n",
    "print(f\"\\nGlimpse of The Dataset :\")\n",
    "rating.head().style.set_properties()"
   ]
  },
  {
   "cell_type": "code",
   "execution_count": 6,
   "metadata": {
    "_kg_hide-input": true,
    "execution": {
     "iopub.execute_input": "2022-11-30T15:18:47.565221Z",
     "iopub.status.busy": "2022-11-30T15:18:47.564756Z",
     "iopub.status.idle": "2022-11-30T15:18:47.581694Z",
     "shell.execute_reply": "2022-11-30T15:18:47.580482Z",
     "shell.execute_reply.started": "2022-11-30T15:18:47.565186Z"
    },
    "trusted": true
   },
   "outputs": [
    {
     "name": "stdout",
     "output_type": "stream",
     "text": [
      "Informations About Rating Dataset :\n",
      "\n",
      "<class 'pandas.core.frame.DataFrame'>\n",
      "RangeIndex: 7813737 entries, 0 to 7813736\n",
      "Data columns (total 3 columns):\n",
      " #   Column    Dtype\n",
      "---  ------    -----\n",
      " 0   user_id   int64\n",
      " 1   anime_id  int64\n",
      " 2   rating    int64\n",
      "dtypes: int64(3)\n",
      "memory usage: 178.8 MB\n",
      "None\n"
     ]
    }
   ],
   "source": [
    "print(f\"Informations About Rating Dataset :\\n\")\n",
    "print(rating.info())"
   ]
  },
  {
   "cell_type": "markdown",
   "metadata": {},
   "source": [
    "**Ringkasan dataset**\n"
   ]
  },
  {
   "cell_type": "code",
   "execution_count": 7,
   "metadata": {
    "_kg_hide-input": true,
    "execution": {
     "iopub.execute_input": "2022-11-30T15:18:51.787230Z",
     "iopub.status.busy": "2022-11-30T15:18:51.786783Z",
     "iopub.status.idle": "2022-11-30T15:18:51.827343Z",
     "shell.execute_reply": "2022-11-30T15:18:51.825962Z",
     "shell.execute_reply.started": "2022-11-30T15:18:51.787196Z"
    },
    "trusted": true
   },
   "outputs": [
    {
     "name": "stdout",
     "output_type": "stream",
     "text": [
      "Summary of The Anime Dataset :\n"
     ]
    },
    {
     "data": {
      "text/html": [
       "<style type=\"text/css\">\n",
       "</style>\n",
       "<table id=\"T_0b1c2\">\n",
       "  <thead>\n",
       "    <tr>\n",
       "      <th class=\"blank level0\" >&nbsp;</th>\n",
       "      <th id=\"T_0b1c2_level0_col0\" class=\"col_heading level0 col0\" >count</th>\n",
       "      <th id=\"T_0b1c2_level0_col1\" class=\"col_heading level0 col1\" >mean</th>\n",
       "      <th id=\"T_0b1c2_level0_col2\" class=\"col_heading level0 col2\" >std</th>\n",
       "      <th id=\"T_0b1c2_level0_col3\" class=\"col_heading level0 col3\" >min</th>\n",
       "      <th id=\"T_0b1c2_level0_col4\" class=\"col_heading level0 col4\" >25%</th>\n",
       "      <th id=\"T_0b1c2_level0_col5\" class=\"col_heading level0 col5\" >50%</th>\n",
       "      <th id=\"T_0b1c2_level0_col6\" class=\"col_heading level0 col6\" >75%</th>\n",
       "      <th id=\"T_0b1c2_level0_col7\" class=\"col_heading level0 col7\" >max</th>\n",
       "    </tr>\n",
       "  </thead>\n",
       "  <tbody>\n",
       "    <tr>\n",
       "      <th id=\"T_0b1c2_level0_row0\" class=\"row_heading level0 row0\" >anime_id</th>\n",
       "      <td id=\"T_0b1c2_row0_col0\" class=\"data row0 col0\" >12294.000000</td>\n",
       "      <td id=\"T_0b1c2_row0_col1\" class=\"data row0 col1\" >14058.221653</td>\n",
       "      <td id=\"T_0b1c2_row0_col2\" class=\"data row0 col2\" >11455.294701</td>\n",
       "      <td id=\"T_0b1c2_row0_col3\" class=\"data row0 col3\" >1.000000</td>\n",
       "      <td id=\"T_0b1c2_row0_col4\" class=\"data row0 col4\" >3484.250000</td>\n",
       "      <td id=\"T_0b1c2_row0_col5\" class=\"data row0 col5\" >10260.500000</td>\n",
       "      <td id=\"T_0b1c2_row0_col6\" class=\"data row0 col6\" >24794.500000</td>\n",
       "      <td id=\"T_0b1c2_row0_col7\" class=\"data row0 col7\" >34527.000000</td>\n",
       "    </tr>\n",
       "    <tr>\n",
       "      <th id=\"T_0b1c2_level0_row1\" class=\"row_heading level0 row1\" >rating</th>\n",
       "      <td id=\"T_0b1c2_row1_col0\" class=\"data row1 col0\" >12064.000000</td>\n",
       "      <td id=\"T_0b1c2_row1_col1\" class=\"data row1 col1\" >6.473902</td>\n",
       "      <td id=\"T_0b1c2_row1_col2\" class=\"data row1 col2\" >1.026746</td>\n",
       "      <td id=\"T_0b1c2_row1_col3\" class=\"data row1 col3\" >1.670000</td>\n",
       "      <td id=\"T_0b1c2_row1_col4\" class=\"data row1 col4\" >5.880000</td>\n",
       "      <td id=\"T_0b1c2_row1_col5\" class=\"data row1 col5\" >6.570000</td>\n",
       "      <td id=\"T_0b1c2_row1_col6\" class=\"data row1 col6\" >7.180000</td>\n",
       "      <td id=\"T_0b1c2_row1_col7\" class=\"data row1 col7\" >10.000000</td>\n",
       "    </tr>\n",
       "    <tr>\n",
       "      <th id=\"T_0b1c2_level0_row2\" class=\"row_heading level0 row2\" >members</th>\n",
       "      <td id=\"T_0b1c2_row2_col0\" class=\"data row2 col0\" >12294.000000</td>\n",
       "      <td id=\"T_0b1c2_row2_col1\" class=\"data row2 col1\" >18071.338864</td>\n",
       "      <td id=\"T_0b1c2_row2_col2\" class=\"data row2 col2\" >54820.676925</td>\n",
       "      <td id=\"T_0b1c2_row2_col3\" class=\"data row2 col3\" >5.000000</td>\n",
       "      <td id=\"T_0b1c2_row2_col4\" class=\"data row2 col4\" >225.000000</td>\n",
       "      <td id=\"T_0b1c2_row2_col5\" class=\"data row2 col5\" >1550.000000</td>\n",
       "      <td id=\"T_0b1c2_row2_col6\" class=\"data row2 col6\" >9437.000000</td>\n",
       "      <td id=\"T_0b1c2_row2_col7\" class=\"data row2 col7\" >1013917.000000</td>\n",
       "    </tr>\n",
       "  </tbody>\n",
       "</table>\n"
      ],
      "text/plain": [
       "<pandas.io.formats.style.Styler at 0x2778f1bd4d0>"
      ]
     },
     "execution_count": 7,
     "metadata": {},
     "output_type": "execute_result"
    }
   ],
   "source": [
    "print(f\"Summary of The Anime Dataset :\")\n",
    "anime.describe().T.style.set_properties()"
   ]
  },
  {
   "cell_type": "code",
   "execution_count": 8,
   "metadata": {
    "_kg_hide-input": true,
    "execution": {
     "iopub.execute_input": "2022-11-30T15:18:54.766103Z",
     "iopub.status.busy": "2022-11-30T15:18:54.765598Z",
     "iopub.status.idle": "2022-11-30T15:18:54.824195Z",
     "shell.execute_reply": "2022-11-30T15:18:54.822456Z",
     "shell.execute_reply.started": "2022-11-30T15:18:54.766066Z"
    },
    "trusted": true
   },
   "outputs": [
    {
     "data": {
      "text/html": [
       "<style type=\"text/css\">\n",
       "</style>\n",
       "<table id=\"T_3f88e\">\n",
       "  <thead>\n",
       "    <tr>\n",
       "      <th class=\"blank level0\" >&nbsp;</th>\n",
       "      <th id=\"T_3f88e_level0_col0\" class=\"col_heading level0 col0\" >count</th>\n",
       "      <th id=\"T_3f88e_level0_col1\" class=\"col_heading level0 col1\" >unique</th>\n",
       "      <th id=\"T_3f88e_level0_col2\" class=\"col_heading level0 col2\" >top</th>\n",
       "      <th id=\"T_3f88e_level0_col3\" class=\"col_heading level0 col3\" >freq</th>\n",
       "    </tr>\n",
       "  </thead>\n",
       "  <tbody>\n",
       "    <tr>\n",
       "      <th id=\"T_3f88e_level0_row0\" class=\"row_heading level0 row0\" >name</th>\n",
       "      <td id=\"T_3f88e_row0_col0\" class=\"data row0 col0\" >12294</td>\n",
       "      <td id=\"T_3f88e_row0_col1\" class=\"data row0 col1\" >12292</td>\n",
       "      <td id=\"T_3f88e_row0_col2\" class=\"data row0 col2\" >Shi Wan Ge Leng Xiaohua</td>\n",
       "      <td id=\"T_3f88e_row0_col3\" class=\"data row0 col3\" >2</td>\n",
       "    </tr>\n",
       "    <tr>\n",
       "      <th id=\"T_3f88e_level0_row1\" class=\"row_heading level0 row1\" >genre</th>\n",
       "      <td id=\"T_3f88e_row1_col0\" class=\"data row1 col0\" >12232</td>\n",
       "      <td id=\"T_3f88e_row1_col1\" class=\"data row1 col1\" >3264</td>\n",
       "      <td id=\"T_3f88e_row1_col2\" class=\"data row1 col2\" >Hentai</td>\n",
       "      <td id=\"T_3f88e_row1_col3\" class=\"data row1 col3\" >823</td>\n",
       "    </tr>\n",
       "    <tr>\n",
       "      <th id=\"T_3f88e_level0_row2\" class=\"row_heading level0 row2\" >type</th>\n",
       "      <td id=\"T_3f88e_row2_col0\" class=\"data row2 col0\" >12269</td>\n",
       "      <td id=\"T_3f88e_row2_col1\" class=\"data row2 col1\" >6</td>\n",
       "      <td id=\"T_3f88e_row2_col2\" class=\"data row2 col2\" >TV</td>\n",
       "      <td id=\"T_3f88e_row2_col3\" class=\"data row2 col3\" >3787</td>\n",
       "    </tr>\n",
       "    <tr>\n",
       "      <th id=\"T_3f88e_level0_row3\" class=\"row_heading level0 row3\" >episodes</th>\n",
       "      <td id=\"T_3f88e_row3_col0\" class=\"data row3 col0\" >12294</td>\n",
       "      <td id=\"T_3f88e_row3_col1\" class=\"data row3 col1\" >187</td>\n",
       "      <td id=\"T_3f88e_row3_col2\" class=\"data row3 col2\" >1</td>\n",
       "      <td id=\"T_3f88e_row3_col3\" class=\"data row3 col3\" >5677</td>\n",
       "    </tr>\n",
       "  </tbody>\n",
       "</table>\n"
      ],
      "text/plain": [
       "<pandas.io.formats.style.Styler at 0x277b40c18d0>"
      ]
     },
     "execution_count": 8,
     "metadata": {},
     "output_type": "execute_result"
    }
   ],
   "source": [
    "anime.describe(include=object).T.style.set_properties()"
   ]
  },
  {
   "cell_type": "code",
   "execution_count": 9,
   "metadata": {
    "_kg_hide-input": true,
    "execution": {
     "iopub.execute_input": "2022-11-30T15:18:57.294337Z",
     "iopub.status.busy": "2022-11-30T15:18:57.293756Z",
     "iopub.status.idle": "2022-11-30T15:18:57.326810Z",
     "shell.execute_reply": "2022-11-30T15:18:57.325411Z",
     "shell.execute_reply.started": "2022-11-30T15:18:57.294287Z"
    },
    "trusted": true
   },
   "outputs": [
    {
     "name": "stdout",
     "output_type": "stream",
     "text": [
      "Null Values of Anime Dataset :\n"
     ]
    },
    {
     "data": {
      "text/html": [
       "<style type=\"text/css\">\n",
       "</style>\n",
       "<table id=\"T_dbe02\">\n",
       "  <thead>\n",
       "    <tr>\n",
       "      <th class=\"blank level0\" >&nbsp;</th>\n",
       "      <th id=\"T_dbe02_level0_col0\" class=\"col_heading level0 col0\" >anime_id</th>\n",
       "      <th id=\"T_dbe02_level0_col1\" class=\"col_heading level0 col1\" >name</th>\n",
       "      <th id=\"T_dbe02_level0_col2\" class=\"col_heading level0 col2\" >genre</th>\n",
       "      <th id=\"T_dbe02_level0_col3\" class=\"col_heading level0 col3\" >type</th>\n",
       "      <th id=\"T_dbe02_level0_col4\" class=\"col_heading level0 col4\" >episodes</th>\n",
       "      <th id=\"T_dbe02_level0_col5\" class=\"col_heading level0 col5\" >rating</th>\n",
       "      <th id=\"T_dbe02_level0_col6\" class=\"col_heading level0 col6\" >members</th>\n",
       "    </tr>\n",
       "  </thead>\n",
       "  <tbody>\n",
       "    <tr>\n",
       "      <th id=\"T_dbe02_level0_row0\" class=\"row_heading level0 row0\" >0</th>\n",
       "      <td id=\"T_dbe02_row0_col0\" class=\"data row0 col0\" >0</td>\n",
       "      <td id=\"T_dbe02_row0_col1\" class=\"data row0 col1\" >0</td>\n",
       "      <td id=\"T_dbe02_row0_col2\" class=\"data row0 col2\" >62</td>\n",
       "      <td id=\"T_dbe02_row0_col3\" class=\"data row0 col3\" >25</td>\n",
       "      <td id=\"T_dbe02_row0_col4\" class=\"data row0 col4\" >0</td>\n",
       "      <td id=\"T_dbe02_row0_col5\" class=\"data row0 col5\" >230</td>\n",
       "      <td id=\"T_dbe02_row0_col6\" class=\"data row0 col6\" >0</td>\n",
       "    </tr>\n",
       "  </tbody>\n",
       "</table>\n"
      ],
      "text/plain": [
       "<pandas.io.formats.style.Styler at 0x2778f39c250>"
      ]
     },
     "execution_count": 9,
     "metadata": {},
     "output_type": "execute_result"
    }
   ],
   "source": [
    "print(\"Null Values of Anime Dataset :\")\n",
    "anime.isna().sum().to_frame().T.style.set_properties()"
   ]
  },
  {
   "cell_type": "code",
   "execution_count": 10,
   "metadata": {
    "_kg_hide-input": true,
    "execution": {
     "iopub.execute_input": "2022-11-30T15:19:01.156236Z",
     "iopub.status.busy": "2022-11-30T15:19:01.155792Z",
     "iopub.status.idle": "2022-11-30T15:19:01.191690Z",
     "shell.execute_reply": "2022-11-30T15:19:01.189955Z",
     "shell.execute_reply.started": "2022-11-30T15:19:01.156200Z"
    },
    "trusted": true
   },
   "outputs": [
    {
     "name": "stdout",
     "output_type": "stream",
     "text": [
      "After Dropping, Null Values of Anime Dataset :\n"
     ]
    },
    {
     "data": {
      "text/html": [
       "<style type=\"text/css\">\n",
       "</style>\n",
       "<table id=\"T_28b83\">\n",
       "  <thead>\n",
       "    <tr>\n",
       "      <th class=\"blank level0\" >&nbsp;</th>\n",
       "      <th id=\"T_28b83_level0_col0\" class=\"col_heading level0 col0\" >anime_id</th>\n",
       "      <th id=\"T_28b83_level0_col1\" class=\"col_heading level0 col1\" >name</th>\n",
       "      <th id=\"T_28b83_level0_col2\" class=\"col_heading level0 col2\" >genre</th>\n",
       "      <th id=\"T_28b83_level0_col3\" class=\"col_heading level0 col3\" >type</th>\n",
       "      <th id=\"T_28b83_level0_col4\" class=\"col_heading level0 col4\" >episodes</th>\n",
       "      <th id=\"T_28b83_level0_col5\" class=\"col_heading level0 col5\" >rating</th>\n",
       "      <th id=\"T_28b83_level0_col6\" class=\"col_heading level0 col6\" >members</th>\n",
       "    </tr>\n",
       "  </thead>\n",
       "  <tbody>\n",
       "    <tr>\n",
       "      <th id=\"T_28b83_level0_row0\" class=\"row_heading level0 row0\" >0</th>\n",
       "      <td id=\"T_28b83_row0_col0\" class=\"data row0 col0\" >0</td>\n",
       "      <td id=\"T_28b83_row0_col1\" class=\"data row0 col1\" >0</td>\n",
       "      <td id=\"T_28b83_row0_col2\" class=\"data row0 col2\" >0</td>\n",
       "      <td id=\"T_28b83_row0_col3\" class=\"data row0 col3\" >0</td>\n",
       "      <td id=\"T_28b83_row0_col4\" class=\"data row0 col4\" >0</td>\n",
       "      <td id=\"T_28b83_row0_col5\" class=\"data row0 col5\" >0</td>\n",
       "      <td id=\"T_28b83_row0_col6\" class=\"data row0 col6\" >0</td>\n",
       "    </tr>\n",
       "  </tbody>\n",
       "</table>\n"
      ],
      "text/plain": [
       "<pandas.io.formats.style.Styler at 0x2778f1d6450>"
      ]
     },
     "execution_count": 10,
     "metadata": {},
     "output_type": "execute_result"
    }
   ],
   "source": [
    "print(\"After Dropping, Null Values of Anime Dataset :\")\n",
    "anime.dropna(axis = 0, inplace = True)\n",
    "anime.isna().sum().to_frame().T.style.set_properties()"
   ]
  },
  {
   "cell_type": "code",
   "execution_count": 11,
   "metadata": {
    "_kg_hide-input": true,
    "execution": {
     "iopub.execute_input": "2022-11-30T15:19:04.192212Z",
     "iopub.status.busy": "2022-11-30T15:19:04.191810Z",
     "iopub.status.idle": "2022-11-30T15:19:04.213789Z",
     "shell.execute_reply": "2022-11-30T15:19:04.212549Z",
     "shell.execute_reply.started": "2022-11-30T15:19:04.192181Z"
    },
    "trusted": true
   },
   "outputs": [
    {
     "name": "stdout",
     "output_type": "stream",
     "text": [
      "There are 0 duplicate entries among 12017 entries in anime dataset.\n"
     ]
    }
   ],
   "source": [
    "dup_anime = anime[anime.duplicated()].shape[0]\n",
    "print(f\"There are {dup_anime} duplicate entries among {anime.shape[0]} entries in anime dataset.\")"
   ]
  },
  {
   "cell_type": "code",
   "execution_count": 12,
   "metadata": {
    "_kg_hide-input": true,
    "execution": {
     "iopub.execute_input": "2022-11-30T15:19:07.544997Z",
     "iopub.status.busy": "2022-11-30T15:19:07.544556Z",
     "iopub.status.idle": "2022-11-30T15:19:08.359149Z",
     "shell.execute_reply": "2022-11-30T15:19:08.357956Z",
     "shell.execute_reply.started": "2022-11-30T15:19:07.544963Z"
    },
    "trusted": true
   },
   "outputs": [
    {
     "name": "stdout",
     "output_type": "stream",
     "text": [
      "Summary of The Rating Dataset :\n"
     ]
    },
    {
     "data": {
      "text/html": [
       "<style type=\"text/css\">\n",
       "</style>\n",
       "<table id=\"T_becfc\">\n",
       "  <thead>\n",
       "    <tr>\n",
       "      <th class=\"blank level0\" >&nbsp;</th>\n",
       "      <th id=\"T_becfc_level0_col0\" class=\"col_heading level0 col0\" >count</th>\n",
       "      <th id=\"T_becfc_level0_col1\" class=\"col_heading level0 col1\" >mean</th>\n",
       "      <th id=\"T_becfc_level0_col2\" class=\"col_heading level0 col2\" >std</th>\n",
       "      <th id=\"T_becfc_level0_col3\" class=\"col_heading level0 col3\" >min</th>\n",
       "      <th id=\"T_becfc_level0_col4\" class=\"col_heading level0 col4\" >25%</th>\n",
       "      <th id=\"T_becfc_level0_col5\" class=\"col_heading level0 col5\" >50%</th>\n",
       "      <th id=\"T_becfc_level0_col6\" class=\"col_heading level0 col6\" >75%</th>\n",
       "      <th id=\"T_becfc_level0_col7\" class=\"col_heading level0 col7\" >max</th>\n",
       "    </tr>\n",
       "  </thead>\n",
       "  <tbody>\n",
       "    <tr>\n",
       "      <th id=\"T_becfc_level0_row0\" class=\"row_heading level0 row0\" >user_id</th>\n",
       "      <td id=\"T_becfc_row0_col0\" class=\"data row0 col0\" >7813737.000000</td>\n",
       "      <td id=\"T_becfc_row0_col1\" class=\"data row0 col1\" >36727.956745</td>\n",
       "      <td id=\"T_becfc_row0_col2\" class=\"data row0 col2\" >20997.946119</td>\n",
       "      <td id=\"T_becfc_row0_col3\" class=\"data row0 col3\" >1.000000</td>\n",
       "      <td id=\"T_becfc_row0_col4\" class=\"data row0 col4\" >18974.000000</td>\n",
       "      <td id=\"T_becfc_row0_col5\" class=\"data row0 col5\" >36791.000000</td>\n",
       "      <td id=\"T_becfc_row0_col6\" class=\"data row0 col6\" >54757.000000</td>\n",
       "      <td id=\"T_becfc_row0_col7\" class=\"data row0 col7\" >73516.000000</td>\n",
       "    </tr>\n",
       "    <tr>\n",
       "      <th id=\"T_becfc_level0_row1\" class=\"row_heading level0 row1\" >anime_id</th>\n",
       "      <td id=\"T_becfc_row1_col0\" class=\"data row1 col0\" >7813737.000000</td>\n",
       "      <td id=\"T_becfc_row1_col1\" class=\"data row1 col1\" >8909.072104</td>\n",
       "      <td id=\"T_becfc_row1_col2\" class=\"data row1 col2\" >8883.949636</td>\n",
       "      <td id=\"T_becfc_row1_col3\" class=\"data row1 col3\" >1.000000</td>\n",
       "      <td id=\"T_becfc_row1_col4\" class=\"data row1 col4\" >1240.000000</td>\n",
       "      <td id=\"T_becfc_row1_col5\" class=\"data row1 col5\" >6213.000000</td>\n",
       "      <td id=\"T_becfc_row1_col6\" class=\"data row1 col6\" >14093.000000</td>\n",
       "      <td id=\"T_becfc_row1_col7\" class=\"data row1 col7\" >34519.000000</td>\n",
       "    </tr>\n",
       "    <tr>\n",
       "      <th id=\"T_becfc_level0_row2\" class=\"row_heading level0 row2\" >rating</th>\n",
       "      <td id=\"T_becfc_row2_col0\" class=\"data row2 col0\" >7813737.000000</td>\n",
       "      <td id=\"T_becfc_row2_col1\" class=\"data row2 col1\" >6.144030</td>\n",
       "      <td id=\"T_becfc_row2_col2\" class=\"data row2 col2\" >3.727800</td>\n",
       "      <td id=\"T_becfc_row2_col3\" class=\"data row2 col3\" >-1.000000</td>\n",
       "      <td id=\"T_becfc_row2_col4\" class=\"data row2 col4\" >6.000000</td>\n",
       "      <td id=\"T_becfc_row2_col5\" class=\"data row2 col5\" >7.000000</td>\n",
       "      <td id=\"T_becfc_row2_col6\" class=\"data row2 col6\" >9.000000</td>\n",
       "      <td id=\"T_becfc_row2_col7\" class=\"data row2 col7\" >10.000000</td>\n",
       "    </tr>\n",
       "  </tbody>\n",
       "</table>\n"
      ],
      "text/plain": [
       "<pandas.io.formats.style.Styler at 0x2778f51eb90>"
      ]
     },
     "execution_count": 12,
     "metadata": {},
     "output_type": "execute_result"
    }
   ],
   "source": [
    "print(f\"Summary of The Rating Dataset :\")\n",
    "rating.describe().T.style.set_properties()"
   ]
  },
  {
   "cell_type": "code",
   "execution_count": 13,
   "metadata": {
    "_kg_hide-input": true,
    "execution": {
     "iopub.execute_input": "2022-11-30T15:19:11.548424Z",
     "iopub.status.busy": "2022-11-30T15:19:11.547985Z",
     "iopub.status.idle": "2022-11-30T15:19:11.596504Z",
     "shell.execute_reply": "2022-11-30T15:19:11.595262Z",
     "shell.execute_reply.started": "2022-11-30T15:19:11.548388Z"
    },
    "trusted": true
   },
   "outputs": [
    {
     "name": "stdout",
     "output_type": "stream",
     "text": [
      "Null Values of Rating Dataset :\n"
     ]
    },
    {
     "data": {
      "text/html": [
       "<style type=\"text/css\">\n",
       "</style>\n",
       "<table id=\"T_8598c\">\n",
       "  <thead>\n",
       "    <tr>\n",
       "      <th class=\"blank level0\" >&nbsp;</th>\n",
       "      <th id=\"T_8598c_level0_col0\" class=\"col_heading level0 col0\" >user_id</th>\n",
       "      <th id=\"T_8598c_level0_col1\" class=\"col_heading level0 col1\" >anime_id</th>\n",
       "      <th id=\"T_8598c_level0_col2\" class=\"col_heading level0 col2\" >rating</th>\n",
       "    </tr>\n",
       "  </thead>\n",
       "  <tbody>\n",
       "    <tr>\n",
       "      <th id=\"T_8598c_level0_row0\" class=\"row_heading level0 row0\" >0</th>\n",
       "      <td id=\"T_8598c_row0_col0\" class=\"data row0 col0\" >0</td>\n",
       "      <td id=\"T_8598c_row0_col1\" class=\"data row0 col1\" >0</td>\n",
       "      <td id=\"T_8598c_row0_col2\" class=\"data row0 col2\" >0</td>\n",
       "    </tr>\n",
       "  </tbody>\n",
       "</table>\n"
      ],
      "text/plain": [
       "<pandas.io.formats.style.Styler at 0x2778f5272d0>"
      ]
     },
     "execution_count": 13,
     "metadata": {},
     "output_type": "execute_result"
    }
   ],
   "source": [
    "print(\"Null Values of Rating Dataset :\")\n",
    "rating.isna().sum().to_frame().T.style.set_properties()"
   ]
  },
  {
   "cell_type": "code",
   "execution_count": 14,
   "metadata": {
    "_kg_hide-input": true,
    "execution": {
     "iopub.execute_input": "2022-11-30T15:19:14.704456Z",
     "iopub.status.busy": "2022-11-30T15:19:14.703963Z",
     "iopub.status.idle": "2022-11-30T15:19:18.691519Z",
     "shell.execute_reply": "2022-11-30T15:19:18.690336Z",
     "shell.execute_reply.started": "2022-11-30T15:19:14.704416Z"
    },
    "trusted": true
   },
   "outputs": [
    {
     "name": "stdout",
     "output_type": "stream",
     "text": [
      "There are 1 duplicate entries among 7813737 entries in rating dataset.\n",
      "\n",
      "After removing duplicate entries there are 7813736 entries in this dataset.\n"
     ]
    }
   ],
   "source": [
    "dup_rating = rating[rating.duplicated()].shape[0]\n",
    "print(f\"There are {dup_rating} duplicate entries among {rating.shape[0]} entries in rating dataset.\")\n",
    "\n",
    "rating.drop_duplicates(keep='first',inplace=True)\n",
    "print(f\"\\nAfter removing duplicate entries there are {rating.shape[0]} entries in this dataset.\")"
   ]
  },
  {
   "cell_type": "markdown",
   "metadata": {},
   "source": [
    "***Menggabungkan dataset 1 dan dataset 2***"
   ]
  },
  {
   "cell_type": "code",
   "execution_count": 15,
   "metadata": {
    "_kg_hide-input": true,
    "execution": {
     "iopub.execute_input": "2022-11-30T15:19:23.802161Z",
     "iopub.status.busy": "2022-11-30T15:19:23.801366Z",
     "iopub.status.idle": "2022-11-30T15:19:26.540232Z",
     "shell.execute_reply": "2022-11-30T15:19:26.538978Z",
     "shell.execute_reply.started": "2022-11-30T15:19:23.802119Z"
    },
    "trusted": true
   },
   "outputs": [
    {
     "name": "stdout",
     "output_type": "stream",
     "text": [
      "Shape of The Merged Dataset : (7813610, 9)\n",
      "\n",
      "Glimpse of The Merged Dataset :\n"
     ]
    },
    {
     "data": {
      "text/html": [
       "<style type=\"text/css\">\n",
       "</style>\n",
       "<table id=\"T_3d4dd\">\n",
       "  <thead>\n",
       "    <tr>\n",
       "      <th class=\"blank level0\" >&nbsp;</th>\n",
       "      <th id=\"T_3d4dd_level0_col0\" class=\"col_heading level0 col0\" >anime_id</th>\n",
       "      <th id=\"T_3d4dd_level0_col1\" class=\"col_heading level0 col1\" >name</th>\n",
       "      <th id=\"T_3d4dd_level0_col2\" class=\"col_heading level0 col2\" >genre</th>\n",
       "      <th id=\"T_3d4dd_level0_col3\" class=\"col_heading level0 col3\" >type</th>\n",
       "      <th id=\"T_3d4dd_level0_col4\" class=\"col_heading level0 col4\" >episodes</th>\n",
       "      <th id=\"T_3d4dd_level0_col5\" class=\"col_heading level0 col5\" >rating</th>\n",
       "      <th id=\"T_3d4dd_level0_col6\" class=\"col_heading level0 col6\" >members</th>\n",
       "      <th id=\"T_3d4dd_level0_col7\" class=\"col_heading level0 col7\" >user_id</th>\n",
       "      <th id=\"T_3d4dd_level0_col8\" class=\"col_heading level0 col8\" >user_rating</th>\n",
       "    </tr>\n",
       "  </thead>\n",
       "  <tbody>\n",
       "    <tr>\n",
       "      <th id=\"T_3d4dd_level0_row0\" class=\"row_heading level0 row0\" >0</th>\n",
       "      <td id=\"T_3d4dd_row0_col0\" class=\"data row0 col0\" >32281</td>\n",
       "      <td id=\"T_3d4dd_row0_col1\" class=\"data row0 col1\" >Kimi no Na wa.</td>\n",
       "      <td id=\"T_3d4dd_row0_col2\" class=\"data row0 col2\" >Drama, Romance, School, Supernatural</td>\n",
       "      <td id=\"T_3d4dd_row0_col3\" class=\"data row0 col3\" >Movie</td>\n",
       "      <td id=\"T_3d4dd_row0_col4\" class=\"data row0 col4\" >1</td>\n",
       "      <td id=\"T_3d4dd_row0_col5\" class=\"data row0 col5\" >9.370000</td>\n",
       "      <td id=\"T_3d4dd_row0_col6\" class=\"data row0 col6\" >200630</td>\n",
       "      <td id=\"T_3d4dd_row0_col7\" class=\"data row0 col7\" >99</td>\n",
       "      <td id=\"T_3d4dd_row0_col8\" class=\"data row0 col8\" >5</td>\n",
       "    </tr>\n",
       "    <tr>\n",
       "      <th id=\"T_3d4dd_level0_row1\" class=\"row_heading level0 row1\" >1</th>\n",
       "      <td id=\"T_3d4dd_row1_col0\" class=\"data row1 col0\" >32281</td>\n",
       "      <td id=\"T_3d4dd_row1_col1\" class=\"data row1 col1\" >Kimi no Na wa.</td>\n",
       "      <td id=\"T_3d4dd_row1_col2\" class=\"data row1 col2\" >Drama, Romance, School, Supernatural</td>\n",
       "      <td id=\"T_3d4dd_row1_col3\" class=\"data row1 col3\" >Movie</td>\n",
       "      <td id=\"T_3d4dd_row1_col4\" class=\"data row1 col4\" >1</td>\n",
       "      <td id=\"T_3d4dd_row1_col5\" class=\"data row1 col5\" >9.370000</td>\n",
       "      <td id=\"T_3d4dd_row1_col6\" class=\"data row1 col6\" >200630</td>\n",
       "      <td id=\"T_3d4dd_row1_col7\" class=\"data row1 col7\" >152</td>\n",
       "      <td id=\"T_3d4dd_row1_col8\" class=\"data row1 col8\" >10</td>\n",
       "    </tr>\n",
       "    <tr>\n",
       "      <th id=\"T_3d4dd_level0_row2\" class=\"row_heading level0 row2\" >2</th>\n",
       "      <td id=\"T_3d4dd_row2_col0\" class=\"data row2 col0\" >32281</td>\n",
       "      <td id=\"T_3d4dd_row2_col1\" class=\"data row2 col1\" >Kimi no Na wa.</td>\n",
       "      <td id=\"T_3d4dd_row2_col2\" class=\"data row2 col2\" >Drama, Romance, School, Supernatural</td>\n",
       "      <td id=\"T_3d4dd_row2_col3\" class=\"data row2 col3\" >Movie</td>\n",
       "      <td id=\"T_3d4dd_row2_col4\" class=\"data row2 col4\" >1</td>\n",
       "      <td id=\"T_3d4dd_row2_col5\" class=\"data row2 col5\" >9.370000</td>\n",
       "      <td id=\"T_3d4dd_row2_col6\" class=\"data row2 col6\" >200630</td>\n",
       "      <td id=\"T_3d4dd_row2_col7\" class=\"data row2 col7\" >244</td>\n",
       "      <td id=\"T_3d4dd_row2_col8\" class=\"data row2 col8\" >10</td>\n",
       "    </tr>\n",
       "    <tr>\n",
       "      <th id=\"T_3d4dd_level0_row3\" class=\"row_heading level0 row3\" >3</th>\n",
       "      <td id=\"T_3d4dd_row3_col0\" class=\"data row3 col0\" >32281</td>\n",
       "      <td id=\"T_3d4dd_row3_col1\" class=\"data row3 col1\" >Kimi no Na wa.</td>\n",
       "      <td id=\"T_3d4dd_row3_col2\" class=\"data row3 col2\" >Drama, Romance, School, Supernatural</td>\n",
       "      <td id=\"T_3d4dd_row3_col3\" class=\"data row3 col3\" >Movie</td>\n",
       "      <td id=\"T_3d4dd_row3_col4\" class=\"data row3 col4\" >1</td>\n",
       "      <td id=\"T_3d4dd_row3_col5\" class=\"data row3 col5\" >9.370000</td>\n",
       "      <td id=\"T_3d4dd_row3_col6\" class=\"data row3 col6\" >200630</td>\n",
       "      <td id=\"T_3d4dd_row3_col7\" class=\"data row3 col7\" >271</td>\n",
       "      <td id=\"T_3d4dd_row3_col8\" class=\"data row3 col8\" >10</td>\n",
       "    </tr>\n",
       "    <tr>\n",
       "      <th id=\"T_3d4dd_level0_row4\" class=\"row_heading level0 row4\" >4</th>\n",
       "      <td id=\"T_3d4dd_row4_col0\" class=\"data row4 col0\" >32281</td>\n",
       "      <td id=\"T_3d4dd_row4_col1\" class=\"data row4 col1\" >Kimi no Na wa.</td>\n",
       "      <td id=\"T_3d4dd_row4_col2\" class=\"data row4 col2\" >Drama, Romance, School, Supernatural</td>\n",
       "      <td id=\"T_3d4dd_row4_col3\" class=\"data row4 col3\" >Movie</td>\n",
       "      <td id=\"T_3d4dd_row4_col4\" class=\"data row4 col4\" >1</td>\n",
       "      <td id=\"T_3d4dd_row4_col5\" class=\"data row4 col5\" >9.370000</td>\n",
       "      <td id=\"T_3d4dd_row4_col6\" class=\"data row4 col6\" >200630</td>\n",
       "      <td id=\"T_3d4dd_row4_col7\" class=\"data row4 col7\" >278</td>\n",
       "      <td id=\"T_3d4dd_row4_col8\" class=\"data row4 col8\" >-1</td>\n",
       "    </tr>\n",
       "  </tbody>\n",
       "</table>\n"
      ],
      "text/plain": [
       "<pandas.io.formats.style.Styler at 0x2778f5331d0>"
      ]
     },
     "execution_count": 15,
     "metadata": {},
     "output_type": "execute_result"
    }
   ],
   "source": [
    "fulldata = pd.merge(anime,rating,on=\"anime_id\",suffixes= [None, \"_user\"])\n",
    "fulldata = fulldata.rename(columns={\"rating_user\": \"user_rating\"})\n",
    "\n",
    "print(f\"Shape of The Merged Dataset : {fulldata.shape}\")\n",
    "print(f\"\\nGlimpse of The Merged Dataset :\")\n",
    "\n",
    "fulldata.head().style.set_properties()"
   ]
  },
  {
   "cell_type": "code",
   "execution_count": 16,
   "metadata": {},
   "outputs": [
    {
     "name": "stdout",
     "output_type": "stream",
     "text": [
      "Dataset berhasil di save\n"
     ]
    }
   ],
   "source": [
    "fulldata.to_csv('C:/SEMESTER 5/STKI/Tugas 3 STKI/data/fulldata.csv', index=False)\n",
    "print('Dataset berhasil di save')"
   ]
  }
 ],
 "metadata": {
  "kernelspec": {
   "display_name": "Python 3",
   "language": "python",
   "name": "python3"
  },
  "language_info": {
   "codemirror_mode": {
    "name": "ipython",
    "version": 3
   },
   "file_extension": ".py",
   "mimetype": "text/x-python",
   "name": "python",
   "nbconvert_exporter": "python",
   "pygments_lexer": "ipython3",
   "version": "3.11.0"
  }
 },
 "nbformat": 4,
 "nbformat_minor": 4
}
